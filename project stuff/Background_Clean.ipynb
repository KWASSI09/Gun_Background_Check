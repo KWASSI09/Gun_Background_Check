{
 "cells": [
  {
   "cell_type": "code",
   "execution_count": 1,
   "id": "bd09ff71",
   "metadata": {},
   "outputs": [],
   "source": [
    "\n",
    "import os\n",
    "from webdriver_manager.chrome import ChromeDriverManager\n",
    "import pandas as pd\n",
    "from splinter import Browser\n",
    "import time\n",
    "from selenium import webdriver"
   ]
  },
  {
   "cell_type": "code",
   "execution_count": 4,
   "id": "5949401d",
   "metadata": {},
   "outputs": [
    {
     "ename": "FileNotFoundError",
     "evalue": "[Errno 2] File Resources\\Firearm.csv does not exist: 'Resources\\\\Firearm.csv'",
     "output_type": "error",
     "traceback": [
      "\u001b[1;31m---------------------------------------------------------------------------\u001b[0m",
      "\u001b[1;31mFileNotFoundError\u001b[0m                         Traceback (most recent call last)",
      "\u001b[1;32m~\\AppData\\Local\\Temp\\ipykernel_21188\\2674640633.py\u001b[0m in \u001b[0;36m<module>\u001b[1;34m\u001b[0m\n\u001b[0;32m      1\u001b[0m \u001b[1;31m#data from https://github.com/BuzzFeedNews/nics-firearm-background-checks\u001b[0m\u001b[1;33m\u001b[0m\u001b[1;33m\u001b[0m\u001b[1;33m\u001b[0m\u001b[0m\n\u001b[1;32m----> 2\u001b[1;33m \u001b[0mbackground_df\u001b[0m \u001b[1;33m=\u001b[0m \u001b[0mpd\u001b[0m\u001b[1;33m.\u001b[0m\u001b[0mread_csv\u001b[0m\u001b[1;33m(\u001b[0m\u001b[1;34m\"Resources\\Firearm.csv\"\u001b[0m\u001b[1;33m)\u001b[0m\u001b[1;33m\u001b[0m\u001b[1;33m\u001b[0m\u001b[0m\n\u001b[0m\u001b[0;32m      3\u001b[0m \u001b[0mbackground_df\u001b[0m\u001b[1;33m\u001b[0m\u001b[1;33m\u001b[0m\u001b[0m\n",
      "\u001b[1;32m~\\anaconda3\\envs\\PythonData\\lib\\site-packages\\pandas\\io\\parsers.py\u001b[0m in \u001b[0;36mparser_f\u001b[1;34m(filepath_or_buffer, sep, delimiter, header, names, index_col, usecols, squeeze, prefix, mangle_dupe_cols, dtype, engine, converters, true_values, false_values, skipinitialspace, skiprows, skipfooter, nrows, na_values, keep_default_na, na_filter, verbose, skip_blank_lines, parse_dates, infer_datetime_format, keep_date_col, date_parser, dayfirst, cache_dates, iterator, chunksize, compression, thousands, decimal, lineterminator, quotechar, quoting, doublequote, escapechar, comment, encoding, dialect, error_bad_lines, warn_bad_lines, delim_whitespace, low_memory, memory_map, float_precision)\u001b[0m\n\u001b[0;32m    674\u001b[0m         )\n\u001b[0;32m    675\u001b[0m \u001b[1;33m\u001b[0m\u001b[0m\n\u001b[1;32m--> 676\u001b[1;33m         \u001b[1;32mreturn\u001b[0m \u001b[0m_read\u001b[0m\u001b[1;33m(\u001b[0m\u001b[0mfilepath_or_buffer\u001b[0m\u001b[1;33m,\u001b[0m \u001b[0mkwds\u001b[0m\u001b[1;33m)\u001b[0m\u001b[1;33m\u001b[0m\u001b[1;33m\u001b[0m\u001b[0m\n\u001b[0m\u001b[0;32m    677\u001b[0m \u001b[1;33m\u001b[0m\u001b[0m\n\u001b[0;32m    678\u001b[0m     \u001b[0mparser_f\u001b[0m\u001b[1;33m.\u001b[0m\u001b[0m__name__\u001b[0m \u001b[1;33m=\u001b[0m \u001b[0mname\u001b[0m\u001b[1;33m\u001b[0m\u001b[1;33m\u001b[0m\u001b[0m\n",
      "\u001b[1;32m~\\anaconda3\\envs\\PythonData\\lib\\site-packages\\pandas\\io\\parsers.py\u001b[0m in \u001b[0;36m_read\u001b[1;34m(filepath_or_buffer, kwds)\u001b[0m\n\u001b[0;32m    446\u001b[0m \u001b[1;33m\u001b[0m\u001b[0m\n\u001b[0;32m    447\u001b[0m     \u001b[1;31m# Create the parser.\u001b[0m\u001b[1;33m\u001b[0m\u001b[1;33m\u001b[0m\u001b[1;33m\u001b[0m\u001b[0m\n\u001b[1;32m--> 448\u001b[1;33m     \u001b[0mparser\u001b[0m \u001b[1;33m=\u001b[0m \u001b[0mTextFileReader\u001b[0m\u001b[1;33m(\u001b[0m\u001b[0mfp_or_buf\u001b[0m\u001b[1;33m,\u001b[0m \u001b[1;33m**\u001b[0m\u001b[0mkwds\u001b[0m\u001b[1;33m)\u001b[0m\u001b[1;33m\u001b[0m\u001b[1;33m\u001b[0m\u001b[0m\n\u001b[0m\u001b[0;32m    449\u001b[0m \u001b[1;33m\u001b[0m\u001b[0m\n\u001b[0;32m    450\u001b[0m     \u001b[1;32mif\u001b[0m \u001b[0mchunksize\u001b[0m \u001b[1;32mor\u001b[0m \u001b[0miterator\u001b[0m\u001b[1;33m:\u001b[0m\u001b[1;33m\u001b[0m\u001b[1;33m\u001b[0m\u001b[0m\n",
      "\u001b[1;32m~\\anaconda3\\envs\\PythonData\\lib\\site-packages\\pandas\\io\\parsers.py\u001b[0m in \u001b[0;36m__init__\u001b[1;34m(self, f, engine, **kwds)\u001b[0m\n\u001b[0;32m    878\u001b[0m             \u001b[0mself\u001b[0m\u001b[1;33m.\u001b[0m\u001b[0moptions\u001b[0m\u001b[1;33m[\u001b[0m\u001b[1;34m\"has_index_names\"\u001b[0m\u001b[1;33m]\u001b[0m \u001b[1;33m=\u001b[0m \u001b[0mkwds\u001b[0m\u001b[1;33m[\u001b[0m\u001b[1;34m\"has_index_names\"\u001b[0m\u001b[1;33m]\u001b[0m\u001b[1;33m\u001b[0m\u001b[1;33m\u001b[0m\u001b[0m\n\u001b[0;32m    879\u001b[0m \u001b[1;33m\u001b[0m\u001b[0m\n\u001b[1;32m--> 880\u001b[1;33m         \u001b[0mself\u001b[0m\u001b[1;33m.\u001b[0m\u001b[0m_make_engine\u001b[0m\u001b[1;33m(\u001b[0m\u001b[0mself\u001b[0m\u001b[1;33m.\u001b[0m\u001b[0mengine\u001b[0m\u001b[1;33m)\u001b[0m\u001b[1;33m\u001b[0m\u001b[1;33m\u001b[0m\u001b[0m\n\u001b[0m\u001b[0;32m    881\u001b[0m \u001b[1;33m\u001b[0m\u001b[0m\n\u001b[0;32m    882\u001b[0m     \u001b[1;32mdef\u001b[0m \u001b[0mclose\u001b[0m\u001b[1;33m(\u001b[0m\u001b[0mself\u001b[0m\u001b[1;33m)\u001b[0m\u001b[1;33m:\u001b[0m\u001b[1;33m\u001b[0m\u001b[1;33m\u001b[0m\u001b[0m\n",
      "\u001b[1;32m~\\anaconda3\\envs\\PythonData\\lib\\site-packages\\pandas\\io\\parsers.py\u001b[0m in \u001b[0;36m_make_engine\u001b[1;34m(self, engine)\u001b[0m\n\u001b[0;32m   1112\u001b[0m     \u001b[1;32mdef\u001b[0m \u001b[0m_make_engine\u001b[0m\u001b[1;33m(\u001b[0m\u001b[0mself\u001b[0m\u001b[1;33m,\u001b[0m \u001b[0mengine\u001b[0m\u001b[1;33m=\u001b[0m\u001b[1;34m\"c\"\u001b[0m\u001b[1;33m)\u001b[0m\u001b[1;33m:\u001b[0m\u001b[1;33m\u001b[0m\u001b[1;33m\u001b[0m\u001b[0m\n\u001b[0;32m   1113\u001b[0m         \u001b[1;32mif\u001b[0m \u001b[0mengine\u001b[0m \u001b[1;33m==\u001b[0m \u001b[1;34m\"c\"\u001b[0m\u001b[1;33m:\u001b[0m\u001b[1;33m\u001b[0m\u001b[1;33m\u001b[0m\u001b[0m\n\u001b[1;32m-> 1114\u001b[1;33m             \u001b[0mself\u001b[0m\u001b[1;33m.\u001b[0m\u001b[0m_engine\u001b[0m \u001b[1;33m=\u001b[0m \u001b[0mCParserWrapper\u001b[0m\u001b[1;33m(\u001b[0m\u001b[0mself\u001b[0m\u001b[1;33m.\u001b[0m\u001b[0mf\u001b[0m\u001b[1;33m,\u001b[0m \u001b[1;33m**\u001b[0m\u001b[0mself\u001b[0m\u001b[1;33m.\u001b[0m\u001b[0moptions\u001b[0m\u001b[1;33m)\u001b[0m\u001b[1;33m\u001b[0m\u001b[1;33m\u001b[0m\u001b[0m\n\u001b[0m\u001b[0;32m   1115\u001b[0m         \u001b[1;32melse\u001b[0m\u001b[1;33m:\u001b[0m\u001b[1;33m\u001b[0m\u001b[1;33m\u001b[0m\u001b[0m\n\u001b[0;32m   1116\u001b[0m             \u001b[1;32mif\u001b[0m \u001b[0mengine\u001b[0m \u001b[1;33m==\u001b[0m \u001b[1;34m\"python\"\u001b[0m\u001b[1;33m:\u001b[0m\u001b[1;33m\u001b[0m\u001b[1;33m\u001b[0m\u001b[0m\n",
      "\u001b[1;32m~\\anaconda3\\envs\\PythonData\\lib\\site-packages\\pandas\\io\\parsers.py\u001b[0m in \u001b[0;36m__init__\u001b[1;34m(self, src, **kwds)\u001b[0m\n\u001b[0;32m   1889\u001b[0m         \u001b[0mkwds\u001b[0m\u001b[1;33m[\u001b[0m\u001b[1;34m\"usecols\"\u001b[0m\u001b[1;33m]\u001b[0m \u001b[1;33m=\u001b[0m \u001b[0mself\u001b[0m\u001b[1;33m.\u001b[0m\u001b[0musecols\u001b[0m\u001b[1;33m\u001b[0m\u001b[1;33m\u001b[0m\u001b[0m\n\u001b[0;32m   1890\u001b[0m \u001b[1;33m\u001b[0m\u001b[0m\n\u001b[1;32m-> 1891\u001b[1;33m         \u001b[0mself\u001b[0m\u001b[1;33m.\u001b[0m\u001b[0m_reader\u001b[0m \u001b[1;33m=\u001b[0m \u001b[0mparsers\u001b[0m\u001b[1;33m.\u001b[0m\u001b[0mTextReader\u001b[0m\u001b[1;33m(\u001b[0m\u001b[0msrc\u001b[0m\u001b[1;33m,\u001b[0m \u001b[1;33m**\u001b[0m\u001b[0mkwds\u001b[0m\u001b[1;33m)\u001b[0m\u001b[1;33m\u001b[0m\u001b[1;33m\u001b[0m\u001b[0m\n\u001b[0m\u001b[0;32m   1892\u001b[0m         \u001b[0mself\u001b[0m\u001b[1;33m.\u001b[0m\u001b[0munnamed_cols\u001b[0m \u001b[1;33m=\u001b[0m \u001b[0mself\u001b[0m\u001b[1;33m.\u001b[0m\u001b[0m_reader\u001b[0m\u001b[1;33m.\u001b[0m\u001b[0munnamed_cols\u001b[0m\u001b[1;33m\u001b[0m\u001b[1;33m\u001b[0m\u001b[0m\n\u001b[0;32m   1893\u001b[0m \u001b[1;33m\u001b[0m\u001b[0m\n",
      "\u001b[1;32mpandas\\_libs\\parsers.pyx\u001b[0m in \u001b[0;36mpandas._libs.parsers.TextReader.__cinit__\u001b[1;34m()\u001b[0m\n",
      "\u001b[1;32mpandas\\_libs\\parsers.pyx\u001b[0m in \u001b[0;36mpandas._libs.parsers.TextReader._setup_parser_source\u001b[1;34m()\u001b[0m\n",
      "\u001b[1;31mFileNotFoundError\u001b[0m: [Errno 2] File Resources\\Firearm.csv does not exist: 'Resources\\\\Firearm.csv'"
     ]
    }
   ],
   "source": [
    "#data from https://github.com/BuzzFeedNews/nics-firearm-background-checks\n",
    "background_df = pd.read_csv(\"Resources\\Firearm.csv\")\n",
    "background_df"
   ]
  },
  {
   "cell_type": "code",
   "execution_count": null,
   "id": "3b6c8d46",
   "metadata": {
    "scrolled": true
   },
   "outputs": [],
   "source": [
    "#reducing the DF\n",
    "short_df = background_df[[\"month\", \"state\",\"permit\",\"permit_recheck\",\"handgun\",\"long_gun\", \"other\", \"multiple\"]].copy()\n",
    "\n",
    "short_df"
   ]
  },
  {
   "cell_type": "code",
   "execution_count": null,
   "id": "074dd7dd",
   "metadata": {},
   "outputs": [],
   "source": [
    "#drop row with NAN\n",
    "reduced_df = short_df.dropna()\n",
    "reduced_df"
   ]
  },
  {
   "cell_type": "code",
   "execution_count": null,
   "id": "1dcb7785",
   "metadata": {},
   "outputs": [],
   "source": [
    "renamex_df = reduced_df.rename(columns={\"month\":\"Date\",\"state\":\"State\",\"permit\":\"Permit\",\"permit_recheck\":\"Permit_Rechecked\",\"handgun\":\"Handgun\",\"long_gun\":\"Long_Gun\",\"other\":\"Other\",\"multiple\":\"Multiple\"})\n",
    "Gun_Check=renamex_df[[\"Date\",\"State\",\"Permit\",\"Permit_Rechecked\",\"Handgun\",\n",
    "                                  \"Long_Gun\",\"Multiple\",\"Other\"]]\n",
    "\n",
    "Gun_Check.to_csv(\"Resources/Checking.csv\", index=False, header=True)\n",
    "\n",
    "Gun_Check.tail()\n",
    "\n"
   ]
  },
  {
   "cell_type": "code",
   "execution_count": null,
   "id": "ce6bb5c0",
   "metadata": {},
   "outputs": [],
   "source": []
  },
  {
   "cell_type": "code",
   "execution_count": null,
   "id": "e97c5d97",
   "metadata": {},
   "outputs": [],
   "source": [
    "\n",
    "month_df=reduced_df['month'].str.split('-', expand=True)\n",
    "year_df= month_df.rename(columns={0: \"Year\"})\n",
    "year_df"
   ]
  },
  {
   "cell_type": "code",
   "execution_count": null,
   "id": "f9469225",
   "metadata": {},
   "outputs": [],
   "source": [
    "y_df= year_df[[\"Year\"]].copy()\n",
    "y_df"
   ]
  },
  {
   "cell_type": "code",
   "execution_count": null,
   "id": "ceb45ae0",
   "metadata": {},
   "outputs": [],
   "source": [
    "joined_df=reduced_df.join(y_df)\n",
    "joined_df"
   ]
  },
  {
   "cell_type": "code",
   "execution_count": null,
   "id": "60f44ba2",
   "metadata": {},
   "outputs": [],
   "source": [
    "cutting_df=joined_df.drop([\"month\"], axis=1)\n",
    "cutting_df.head()\n"
   ]
  },
  {
   "cell_type": "code",
   "execution_count": null,
   "id": "939633f2",
   "metadata": {},
   "outputs": [],
   "source": []
  },
  {
   "cell_type": "code",
   "execution_count": null,
   "id": "d26b9abe",
   "metadata": {},
   "outputs": [],
   "source": [
    "total_states = cutting_df[\"state\"].nunique()\n",
    "total_states"
   ]
  },
  {
   "cell_type": "code",
   "execution_count": null,
   "id": "c643eb8b",
   "metadata": {},
   "outputs": [],
   "source": [
    "grouped_state_df = cutting_df.groupby([\"state\"])"
   ]
  },
  {
   "cell_type": "code",
   "execution_count": null,
   "id": "a4139d13",
   "metadata": {},
   "outputs": [],
   "source": [
    "total_permit =grouped_state_df[\"permit\"].sum()"
   ]
  },
  {
   "cell_type": "code",
   "execution_count": null,
   "id": "94692d2a",
   "metadata": {},
   "outputs": [],
   "source": [
    "total_permit_recheck =grouped_state_df[\"permit_recheck\"].sum()"
   ]
  },
  {
   "cell_type": "code",
   "execution_count": null,
   "id": "2e2b1e4c",
   "metadata": {},
   "outputs": [],
   "source": [
    "total_handgun =grouped_state_df[\"handgun\"].sum()"
   ]
  },
  {
   "cell_type": "code",
   "execution_count": null,
   "id": "63891da8",
   "metadata": {},
   "outputs": [],
   "source": [
    "total_long_gun =grouped_state_df[\"long_gun\"].sum()"
   ]
  },
  {
   "cell_type": "code",
   "execution_count": null,
   "id": "b74ae3d8",
   "metadata": {},
   "outputs": [],
   "source": [
    "total_other =grouped_state_df[\"other\"].sum()"
   ]
  },
  {
   "cell_type": "code",
   "execution_count": null,
   "id": "23ad7f2e",
   "metadata": {},
   "outputs": [],
   "source": [
    "total_multiple =grouped_state_df[\"multiple\"].sum()"
   ]
  },
  {
   "cell_type": "code",
   "execution_count": null,
   "id": "ac920ca2",
   "metadata": {},
   "outputs": [],
   "source": [
    "Check_Summary_df = pd.DataFrame({\"Total_permit\" : total_permit,\n",
    "      \"Total_permit_recheck\" : total_permit_recheck,\n",
    "      \"Total_handgun\" : total_handgun,\n",
    "      \"Total_long_gun\" : total_long_gun,\n",
    "      \"Total_other\" : total_other,\n",
    "      \"Total_multiple\" : total_multiple,\n",
    "      })\n",
    "#Check_Summary_df\n",
    "FinalSummary_df=Check_Summary_df.drop(Check_Summary_df.index[[11,21,41,49]],axis=0)\n",
    "Summary_df=FinalSummary_df.reset_index()\n",
    "Summary_df.head()"
   ]
  },
  {
   "cell_type": "code",
   "execution_count": null,
   "id": "e8423ad2",
   "metadata": {},
   "outputs": [],
   "source": [
    "FinSummary_df =Summary_df.rename(columns={\"state\":\"State\"})\n",
    "FinSummary_df.head()\n"
   ]
  },
  {
   "cell_type": "code",
   "execution_count": 3,
   "id": "7905081b",
   "metadata": {},
   "outputs": [
    {
     "ename": "FileNotFoundError",
     "evalue": "[Errno 2] File ./Resources/raw_data.csv does not exist: './Resources/raw_data.csv'",
     "output_type": "error",
     "traceback": [
      "\u001b[1;31m---------------------------------------------------------------------------\u001b[0m",
      "\u001b[1;31mFileNotFoundError\u001b[0m                         Traceback (most recent call last)",
      "\u001b[1;32m~\\AppData\\Local\\Temp\\ipykernel_21188\\2663384952.py\u001b[0m in \u001b[0;36m<module>\u001b[1;34m\u001b[0m\n\u001b[0;32m      1\u001b[0m \u001b[1;31m#from https://www.kff.org/other/state-indicator/firearms-death-rate-by-raceethnicity/?currentTimeframe=0&sortModel=%7B%22colId%22:%22Location%22,%22sort%22:%22asc%22%7D\u001b[0m\u001b[1;33m\u001b[0m\u001b[1;33m\u001b[0m\u001b[1;33m\u001b[0m\u001b[0m\n\u001b[0;32m      2\u001b[0m \u001b[1;31m#Deaths Due to Firearms per 100,000 Population by Race/Ethnicity\u001b[0m\u001b[1;33m\u001b[0m\u001b[1;33m\u001b[0m\u001b[1;33m\u001b[0m\u001b[0m\n\u001b[1;32m----> 3\u001b[1;33m \u001b[0mRaceC_df\u001b[0m \u001b[1;33m=\u001b[0m \u001b[0mpd\u001b[0m\u001b[1;33m.\u001b[0m\u001b[0mread_csv\u001b[0m\u001b[1;33m(\u001b[0m\u001b[1;34m\"./Resources/raw_data.csv\"\u001b[0m\u001b[1;33m)\u001b[0m\u001b[1;33m\u001b[0m\u001b[1;33m\u001b[0m\u001b[0m\n\u001b[0m\u001b[0;32m      4\u001b[0m \u001b[0mRaceC_df\u001b[0m\u001b[1;33m.\u001b[0m\u001b[0mhead\u001b[0m\u001b[1;33m(\u001b[0m\u001b[1;33m)\u001b[0m\u001b[1;33m\u001b[0m\u001b[1;33m\u001b[0m\u001b[0m\n",
      "\u001b[1;32m~\\anaconda3\\envs\\PythonData\\lib\\site-packages\\pandas\\io\\parsers.py\u001b[0m in \u001b[0;36mparser_f\u001b[1;34m(filepath_or_buffer, sep, delimiter, header, names, index_col, usecols, squeeze, prefix, mangle_dupe_cols, dtype, engine, converters, true_values, false_values, skipinitialspace, skiprows, skipfooter, nrows, na_values, keep_default_na, na_filter, verbose, skip_blank_lines, parse_dates, infer_datetime_format, keep_date_col, date_parser, dayfirst, cache_dates, iterator, chunksize, compression, thousands, decimal, lineterminator, quotechar, quoting, doublequote, escapechar, comment, encoding, dialect, error_bad_lines, warn_bad_lines, delim_whitespace, low_memory, memory_map, float_precision)\u001b[0m\n\u001b[0;32m    674\u001b[0m         )\n\u001b[0;32m    675\u001b[0m \u001b[1;33m\u001b[0m\u001b[0m\n\u001b[1;32m--> 676\u001b[1;33m         \u001b[1;32mreturn\u001b[0m \u001b[0m_read\u001b[0m\u001b[1;33m(\u001b[0m\u001b[0mfilepath_or_buffer\u001b[0m\u001b[1;33m,\u001b[0m \u001b[0mkwds\u001b[0m\u001b[1;33m)\u001b[0m\u001b[1;33m\u001b[0m\u001b[1;33m\u001b[0m\u001b[0m\n\u001b[0m\u001b[0;32m    677\u001b[0m \u001b[1;33m\u001b[0m\u001b[0m\n\u001b[0;32m    678\u001b[0m     \u001b[0mparser_f\u001b[0m\u001b[1;33m.\u001b[0m\u001b[0m__name__\u001b[0m \u001b[1;33m=\u001b[0m \u001b[0mname\u001b[0m\u001b[1;33m\u001b[0m\u001b[1;33m\u001b[0m\u001b[0m\n",
      "\u001b[1;32m~\\anaconda3\\envs\\PythonData\\lib\\site-packages\\pandas\\io\\parsers.py\u001b[0m in \u001b[0;36m_read\u001b[1;34m(filepath_or_buffer, kwds)\u001b[0m\n\u001b[0;32m    446\u001b[0m \u001b[1;33m\u001b[0m\u001b[0m\n\u001b[0;32m    447\u001b[0m     \u001b[1;31m# Create the parser.\u001b[0m\u001b[1;33m\u001b[0m\u001b[1;33m\u001b[0m\u001b[1;33m\u001b[0m\u001b[0m\n\u001b[1;32m--> 448\u001b[1;33m     \u001b[0mparser\u001b[0m \u001b[1;33m=\u001b[0m \u001b[0mTextFileReader\u001b[0m\u001b[1;33m(\u001b[0m\u001b[0mfp_or_buf\u001b[0m\u001b[1;33m,\u001b[0m \u001b[1;33m**\u001b[0m\u001b[0mkwds\u001b[0m\u001b[1;33m)\u001b[0m\u001b[1;33m\u001b[0m\u001b[1;33m\u001b[0m\u001b[0m\n\u001b[0m\u001b[0;32m    449\u001b[0m \u001b[1;33m\u001b[0m\u001b[0m\n\u001b[0;32m    450\u001b[0m     \u001b[1;32mif\u001b[0m \u001b[0mchunksize\u001b[0m \u001b[1;32mor\u001b[0m \u001b[0miterator\u001b[0m\u001b[1;33m:\u001b[0m\u001b[1;33m\u001b[0m\u001b[1;33m\u001b[0m\u001b[0m\n",
      "\u001b[1;32m~\\anaconda3\\envs\\PythonData\\lib\\site-packages\\pandas\\io\\parsers.py\u001b[0m in \u001b[0;36m__init__\u001b[1;34m(self, f, engine, **kwds)\u001b[0m\n\u001b[0;32m    878\u001b[0m             \u001b[0mself\u001b[0m\u001b[1;33m.\u001b[0m\u001b[0moptions\u001b[0m\u001b[1;33m[\u001b[0m\u001b[1;34m\"has_index_names\"\u001b[0m\u001b[1;33m]\u001b[0m \u001b[1;33m=\u001b[0m \u001b[0mkwds\u001b[0m\u001b[1;33m[\u001b[0m\u001b[1;34m\"has_index_names\"\u001b[0m\u001b[1;33m]\u001b[0m\u001b[1;33m\u001b[0m\u001b[1;33m\u001b[0m\u001b[0m\n\u001b[0;32m    879\u001b[0m \u001b[1;33m\u001b[0m\u001b[0m\n\u001b[1;32m--> 880\u001b[1;33m         \u001b[0mself\u001b[0m\u001b[1;33m.\u001b[0m\u001b[0m_make_engine\u001b[0m\u001b[1;33m(\u001b[0m\u001b[0mself\u001b[0m\u001b[1;33m.\u001b[0m\u001b[0mengine\u001b[0m\u001b[1;33m)\u001b[0m\u001b[1;33m\u001b[0m\u001b[1;33m\u001b[0m\u001b[0m\n\u001b[0m\u001b[0;32m    881\u001b[0m \u001b[1;33m\u001b[0m\u001b[0m\n\u001b[0;32m    882\u001b[0m     \u001b[1;32mdef\u001b[0m \u001b[0mclose\u001b[0m\u001b[1;33m(\u001b[0m\u001b[0mself\u001b[0m\u001b[1;33m)\u001b[0m\u001b[1;33m:\u001b[0m\u001b[1;33m\u001b[0m\u001b[1;33m\u001b[0m\u001b[0m\n",
      "\u001b[1;32m~\\anaconda3\\envs\\PythonData\\lib\\site-packages\\pandas\\io\\parsers.py\u001b[0m in \u001b[0;36m_make_engine\u001b[1;34m(self, engine)\u001b[0m\n\u001b[0;32m   1112\u001b[0m     \u001b[1;32mdef\u001b[0m \u001b[0m_make_engine\u001b[0m\u001b[1;33m(\u001b[0m\u001b[0mself\u001b[0m\u001b[1;33m,\u001b[0m \u001b[0mengine\u001b[0m\u001b[1;33m=\u001b[0m\u001b[1;34m\"c\"\u001b[0m\u001b[1;33m)\u001b[0m\u001b[1;33m:\u001b[0m\u001b[1;33m\u001b[0m\u001b[1;33m\u001b[0m\u001b[0m\n\u001b[0;32m   1113\u001b[0m         \u001b[1;32mif\u001b[0m \u001b[0mengine\u001b[0m \u001b[1;33m==\u001b[0m \u001b[1;34m\"c\"\u001b[0m\u001b[1;33m:\u001b[0m\u001b[1;33m\u001b[0m\u001b[1;33m\u001b[0m\u001b[0m\n\u001b[1;32m-> 1114\u001b[1;33m             \u001b[0mself\u001b[0m\u001b[1;33m.\u001b[0m\u001b[0m_engine\u001b[0m \u001b[1;33m=\u001b[0m \u001b[0mCParserWrapper\u001b[0m\u001b[1;33m(\u001b[0m\u001b[0mself\u001b[0m\u001b[1;33m.\u001b[0m\u001b[0mf\u001b[0m\u001b[1;33m,\u001b[0m \u001b[1;33m**\u001b[0m\u001b[0mself\u001b[0m\u001b[1;33m.\u001b[0m\u001b[0moptions\u001b[0m\u001b[1;33m)\u001b[0m\u001b[1;33m\u001b[0m\u001b[1;33m\u001b[0m\u001b[0m\n\u001b[0m\u001b[0;32m   1115\u001b[0m         \u001b[1;32melse\u001b[0m\u001b[1;33m:\u001b[0m\u001b[1;33m\u001b[0m\u001b[1;33m\u001b[0m\u001b[0m\n\u001b[0;32m   1116\u001b[0m             \u001b[1;32mif\u001b[0m \u001b[0mengine\u001b[0m \u001b[1;33m==\u001b[0m \u001b[1;34m\"python\"\u001b[0m\u001b[1;33m:\u001b[0m\u001b[1;33m\u001b[0m\u001b[1;33m\u001b[0m\u001b[0m\n",
      "\u001b[1;32m~\\anaconda3\\envs\\PythonData\\lib\\site-packages\\pandas\\io\\parsers.py\u001b[0m in \u001b[0;36m__init__\u001b[1;34m(self, src, **kwds)\u001b[0m\n\u001b[0;32m   1889\u001b[0m         \u001b[0mkwds\u001b[0m\u001b[1;33m[\u001b[0m\u001b[1;34m\"usecols\"\u001b[0m\u001b[1;33m]\u001b[0m \u001b[1;33m=\u001b[0m \u001b[0mself\u001b[0m\u001b[1;33m.\u001b[0m\u001b[0musecols\u001b[0m\u001b[1;33m\u001b[0m\u001b[1;33m\u001b[0m\u001b[0m\n\u001b[0;32m   1890\u001b[0m \u001b[1;33m\u001b[0m\u001b[0m\n\u001b[1;32m-> 1891\u001b[1;33m         \u001b[0mself\u001b[0m\u001b[1;33m.\u001b[0m\u001b[0m_reader\u001b[0m \u001b[1;33m=\u001b[0m \u001b[0mparsers\u001b[0m\u001b[1;33m.\u001b[0m\u001b[0mTextReader\u001b[0m\u001b[1;33m(\u001b[0m\u001b[0msrc\u001b[0m\u001b[1;33m,\u001b[0m \u001b[1;33m**\u001b[0m\u001b[0mkwds\u001b[0m\u001b[1;33m)\u001b[0m\u001b[1;33m\u001b[0m\u001b[1;33m\u001b[0m\u001b[0m\n\u001b[0m\u001b[0;32m   1892\u001b[0m         \u001b[0mself\u001b[0m\u001b[1;33m.\u001b[0m\u001b[0munnamed_cols\u001b[0m \u001b[1;33m=\u001b[0m \u001b[0mself\u001b[0m\u001b[1;33m.\u001b[0m\u001b[0m_reader\u001b[0m\u001b[1;33m.\u001b[0m\u001b[0munnamed_cols\u001b[0m\u001b[1;33m\u001b[0m\u001b[1;33m\u001b[0m\u001b[0m\n\u001b[0;32m   1893\u001b[0m \u001b[1;33m\u001b[0m\u001b[0m\n",
      "\u001b[1;32mpandas\\_libs\\parsers.pyx\u001b[0m in \u001b[0;36mpandas._libs.parsers.TextReader.__cinit__\u001b[1;34m()\u001b[0m\n",
      "\u001b[1;32mpandas\\_libs\\parsers.pyx\u001b[0m in \u001b[0;36mpandas._libs.parsers.TextReader._setup_parser_source\u001b[1;34m()\u001b[0m\n",
      "\u001b[1;31mFileNotFoundError\u001b[0m: [Errno 2] File ./Resources/raw_data.csv does not exist: './Resources/raw_data.csv'"
     ]
    }
   ],
   "source": [
    "#from https://www.kff.org/other/state-indicator/firearms-death-rate-by-raceethnicity/?currentTimeframe=0&sortModel=%7B%22colId%22:%22Location%22,%22sort%22:%22asc%22%7D\n",
    "#Deaths Due to Firearms per 100,000 Population by Race/Ethnicity\n",
    "RaceC_df = pd.read_csv(\"./Resources/raw_data.csv\")\n",
    "RaceC_df.head()"
   ]
  },
  {
   "cell_type": "code",
   "execution_count": null,
   "id": "66888e34",
   "metadata": {},
   "outputs": [],
   "source": [
    "df = RaceC_df.fillna(0)\n",
    "#df\n",
    "df1 = df.replace(['NSD'],0)\n",
    "#df1\n",
    "drop6_df=df1.drop(labels=0)\n",
    "drop6_df.set_index('Location',inplace=True)\n",
    "#drop6_df.head()\n",
    "Race_df= drop6_df.reset_index()\n",
    "rename4_df = Race_df.rename(columns={\"Location\":\"State\"})\n",
    "rename4_df.to_csv(\"Resources/Race_violence.csv\", index=False, header=True)\n",
    "rename4_df.head()"
   ]
  },
  {
   "cell_type": "code",
   "execution_count": null,
   "id": "70fb6551",
   "metadata": {},
   "outputs": [],
   "source": []
  },
  {
   "cell_type": "code",
   "execution_count": null,
   "id": "943cb616",
   "metadata": {},
   "outputs": [],
   "source": [
    "#Deaths rate and deaths by state beetwen 2004-2020\n",
    "# from https://www.cdc.gov/nchs/pressroom/sosmap/homicide_mortality/homicide.htm\n",
    "death_df = pd.read_csv(\"./Resources/Deaths.csv\")\n",
    "death_df.head()"
   ]
  },
  {
   "cell_type": "code",
   "execution_count": null,
   "id": "a0f92735",
   "metadata": {},
   "outputs": [],
   "source": [
    "# from https://worldpopulationreview.com/state-rankings/educational-attainment-by-state\n",
    "education_df = pd.read_csv(\"./Resources/Education2022.csv\")\n",
    "education_df.head()"
   ]
  },
  {
   "cell_type": "markdown",
   "id": "81fece24",
   "metadata": {},
   "source": [
    "# Visiting the URL for the St Louis Fed site using splinter "
   ]
  },
  {
   "cell_type": "code",
   "execution_count": null,
   "id": "ef6f3e54",
   "metadata": {},
   "outputs": [],
   "source": [
    "# Setup splinter\n",
    "executable_path = {'executable_path': ChromeDriverManager().install()}\n",
    "browser = Browser('chrome', **executable_path, headless=False)"
   ]
  },
  {
   "cell_type": "code",
   "execution_count": null,
   "id": "0560f7e5",
   "metadata": {},
   "outputs": [],
   "source": [
    "url =\"https://fred.stlouisfed.org/release/tables?rid=249&eid=259515&od=2016-01-01\"\n",
    "browser.visit(url)\n",
    "data0_df = pd.read_html(url)\n",
    "df_0=data0_df[0]\n",
    "df_0.columns = [\"Unnamed: 0_level_1\",\"Name\",\"2016\",\"Preceding Period\",\"Year Ago from Period\"]\n",
    "df_0.head()"
   ]
  },
  {
   "cell_type": "code",
   "execution_count": null,
   "id": "f0f77d4a",
   "metadata": {},
   "outputs": [],
   "source": [
    "reduce0_df=df_0.drop([\"Unnamed: 0_level_1\",\"Year Ago from Period\"], axis=1)\n",
    "#reduce0_df.head()\n",
    "rename0_df = reduce0_df.rename(columns={\"Name\":\"State\",\"2016\":\"Income_2016\",\"Preceding Period\":\"Income_2015\"})\n",
    "rename0_df.head()\n"
   ]
  },
  {
   "cell_type": "code",
   "execution_count": null,
   "id": "d9d3034f",
   "metadata": {},
   "outputs": [],
   "source": [
    "drop0_df=rename0_df.drop(labels=0)\n",
    "drop0_df.set_index('State',inplace=True)\n",
    "#drop0_df.head()\n",
    "drop0_df.reset_index().head()"
   ]
  },
  {
   "cell_type": "code",
   "execution_count": null,
   "id": "87079318",
   "metadata": {},
   "outputs": [],
   "source": [
    "\n",
    "url_1 =\"https://fred.stlouisfed.org/release/tables?rid=249&eid=259515&od=2018-01-01\"\n",
    "browser.visit(url_1)\n",
    "data1_df = pd.read_html(url_1)\n",
    "df_1=data1_df[0]\n",
    "df_1.columns = [\"Unnamed: 0_level_1\",\"Name\",\"2018\",\"Preceding Period\",\"Year Ago from Period\"]\n",
    "df_1.head()"
   ]
  },
  {
   "cell_type": "code",
   "execution_count": null,
   "id": "24263452",
   "metadata": {},
   "outputs": [],
   "source": [
    "reduce1_df=df_1.drop([\"Unnamed: 0_level_1\",\"Year Ago from Period\"], axis=1)\n",
    "#reduce1_df.head()\n",
    "rename1_df = reduce1_df.rename(columns={\"Name\":\"State\",\"2018\":\"Income_2018\",\"Preceding Period\":\"Income_2017\"})\n",
    "rename1_df.head()"
   ]
  },
  {
   "cell_type": "code",
   "execution_count": null,
   "id": "5ad68c6c",
   "metadata": {},
   "outputs": [],
   "source": [
    "drop1_df=rename1_df.drop(labels=0)\n",
    "drop1_df.set_index('State',inplace=True)\n",
    "#drop1_df.head()\n",
    "drop1_df.reset_index().head()"
   ]
  },
  {
   "cell_type": "code",
   "execution_count": null,
   "id": "68bb827e",
   "metadata": {},
   "outputs": [],
   "source": [
    "url_2 =\"https://fred.stlouisfed.org/release/tables?rid=249&eid=259515&od=2020-01-01\"\n",
    "browser.visit(url_2)\n",
    "data2_df = pd.read_html(url_2)\n",
    "df_2=data2_df[0]\n",
    "df_2.columns = [\"Unnamed: 0_level_1\",\"Name\",\"2020\",\"Preceding Period\",\"Year Ago from Period\"]\n",
    "df_2.head()"
   ]
  },
  {
   "cell_type": "code",
   "execution_count": null,
   "id": "e705b0be",
   "metadata": {},
   "outputs": [],
   "source": [
    "reduce2_df=df_2.drop([\"Unnamed: 0_level_1\",\"Year Ago from Period\"], axis=1)\n",
    "#reduce2_df.head()\n",
    "rename2_df = reduce2_df.rename(columns={\"Name\":\"State\",\"2020\":\"Income_2020\",\"Preceding Period\":\"Income_2019\"})\n",
    "rename2_df.head()"
   ]
  },
  {
   "cell_type": "code",
   "execution_count": null,
   "id": "26036b8f",
   "metadata": {},
   "outputs": [],
   "source": [
    "drop2_df=rename2_df.drop(labels=0)\n",
    "drop2_df.set_index('State',inplace=True)\n",
    "#drop2_df.head()\n",
    "drop2_df.reset_index().head()"
   ]
  },
  {
   "cell_type": "code",
   "execution_count": null,
   "id": "75918c79",
   "metadata": {},
   "outputs": [],
   "source": [
    "url_3 =\"https://fred.stlouisfed.org/release/tables?rid=249&eid=259515&od=\"\n",
    "browser.visit(url_3)\n",
    "data3_df = pd.read_html(url_3)\n",
    "df_3=data3_df[0]\n",
    "df_3.columns = [\"Unnamed: 0_level_1\",\"Name\",\"2021\",\"Preceding Period\",\"Year Ago from Period\"]\n",
    "df_3.head()\n"
   ]
  },
  {
   "cell_type": "code",
   "execution_count": null,
   "id": "a56aee0f",
   "metadata": {},
   "outputs": [],
   "source": [
    "reduce3_df=df_3.drop([\"Unnamed: 0_level_1\",\"Preceding Period\",\"Year Ago from Period\"], axis=1)\n",
    "#reduce3_df.head()\n",
    "rename3_df = reduce3_df.rename(columns={\"Name\":\"State\",\"2021\":\"Income_2021\"})\n",
    "rename3_df.head()"
   ]
  },
  {
   "cell_type": "code",
   "execution_count": null,
   "id": "637155da",
   "metadata": {},
   "outputs": [],
   "source": [
    "drop3_df=rename3_df.drop(labels=0)\n",
    "drop3_df.set_index('State',inplace=True)\n",
    "#drop3_df.head()\n",
    "drop3_df.reset_index().head()"
   ]
  },
  {
   "cell_type": "markdown",
   "id": "558ec7a2",
   "metadata": {},
   "source": [
    "# Merging the income df and ordering the columns of the final merge"
   ]
  },
  {
   "cell_type": "code",
   "execution_count": null,
   "id": "f80856d4",
   "metadata": {},
   "outputs": [],
   "source": [
    "#merging\n",
    "combined1_df= pd.merge(drop0_df,drop1_df, on =\"State\")\n",
    "combined1_df.head()\n"
   ]
  },
  {
   "cell_type": "code",
   "execution_count": null,
   "id": "edccf56a",
   "metadata": {},
   "outputs": [],
   "source": [
    "combined2_df= pd.merge(combined1_df,drop2_df, on =\"State\")\n",
    "combined2_df.head()"
   ]
  },
  {
   "cell_type": "code",
   "execution_count": null,
   "id": "1618102b",
   "metadata": {},
   "outputs": [],
   "source": [
    "combined3_df= pd.merge(combined2_df,drop3_df, on =\"State\")\n",
    "combined3_df.head()"
   ]
  },
  {
   "cell_type": "code",
   "execution_count": null,
   "id": "f1940f3a",
   "metadata": {},
   "outputs": [],
   "source": [
    "F_df=combined3_df.reset_index()\n",
    "F_df.head()"
   ]
  },
  {
   "cell_type": "code",
   "execution_count": null,
   "id": "c1eec5f5",
   "metadata": {
    "scrolled": true
   },
   "outputs": [],
   "source": [
    "#ordering the columns\n",
    "final_combined_df = F_df[[\"State\",\"Income_2015\",\"Income_2016\",\"Income_2017\",\"Income_2018\",\n",
    "                                  \"Income_2019\",\"Income_2020\",\"Income_2021\"]]\n",
    "final_combined_df.head()"
   ]
  },
  {
   "cell_type": "code",
   "execution_count": null,
   "id": "66cc9996",
   "metadata": {},
   "outputs": [],
   "source": [
    "final_combined_df.to_csv(\"Resources/Income.csv\", index=False, header=True)"
   ]
  },
  {
   "cell_type": "markdown",
   "id": "126f4818",
   "metadata": {},
   "source": [
    "# Final merge"
   ]
  },
  {
   "cell_type": "code",
   "execution_count": null,
   "id": "487c62aa",
   "metadata": {},
   "outputs": [],
   "source": [
    "project_df= pd.merge(Gun_Check,final_combined_df, on =\"State\")\n",
    "project_df.head()"
   ]
  },
  {
   "cell_type": "code",
   "execution_count": null,
   "id": "82c6dae8",
   "metadata": {},
   "outputs": [],
   "source": [
    "project_df.to_csv(\"Resources/Project.csv\", index=False, header=True)"
   ]
  },
  {
   "cell_type": "markdown",
   "id": "17a4615a",
   "metadata": {},
   "source": [
    "# load the DFs on PostgreSQL"
   ]
  },
  {
   "cell_type": "code",
   "execution_count": null,
   "id": "9af31c57",
   "metadata": {},
   "outputs": [],
   "source": [
    "import psycopg2\n",
    "from sqlalchemy import create_engine\n",
    "from config import user,ps,host,port\n",
    "import io"
   ]
  },
  {
   "cell_type": "code",
   "execution_count": null,
   "id": "be1ab6b2",
   "metadata": {},
   "outputs": [],
   "source": [
    " # variables to populate the database connection string\n",
    "db_user = user\n",
    "db_password = ps\n",
    "db_host = host\n",
    "db_port = port"
   ]
  },
  {
   "cell_type": "code",
   "execution_count": null,
   "id": "c5b2a1af",
   "metadata": {},
   "outputs": [],
   "source": [
    "#confirming the database existence\n",
    "db_name = \"Project3_db\""
   ]
  },
  {
   "cell_type": "code",
   "execution_count": null,
   "id": "6e53265e",
   "metadata": {},
   "outputs": [],
   "source": [
    "#Create engine to connect to project_db\n",
    "engine = create_engine(f'postgresql://{db_user}:{db_password}@{db_host}:{db_port}/{db_name}')"
   ]
  },
  {
   "cell_type": "code",
   "execution_count": null,
   "id": "259f2a1b",
   "metadata": {},
   "outputs": [],
   "source": [
    "conn=engine.connect()"
   ]
  },
  {
   "cell_type": "code",
   "execution_count": null,
   "id": "6a0ef4a9",
   "metadata": {},
   "outputs": [],
   "source": [
    "death_df.to_sql('Deaths', con=conn, if_exists='replace',index=False)"
   ]
  },
  {
   "cell_type": "code",
   "execution_count": null,
   "id": "0af77b0d",
   "metadata": {},
   "outputs": [],
   "source": [
    "Gun_Check.to_sql('Checking', con=conn, if_exists='replace',index=False)"
   ]
  },
  {
   "cell_type": "code",
   "execution_count": null,
   "id": "0b79c251",
   "metadata": {},
   "outputs": [],
   "source": [
    "education_df.to_sql('Education2022', con=conn, if_exists='replace',index=False)"
   ]
  },
  {
   "cell_type": "code",
   "execution_count": null,
   "id": "f1cb1ef7",
   "metadata": {},
   "outputs": [],
   "source": [
    "rename4_df.to_sql('Race_violence', con=conn, if_exists='replace',index=False)"
   ]
  },
  {
   "cell_type": "code",
   "execution_count": null,
   "id": "ea7af4bb",
   "metadata": {},
   "outputs": [],
   "source": [
    "final_combined_df.to_sql('Income', con=conn, if_exists='replace',index=False)"
   ]
  },
  {
   "cell_type": "markdown",
   "id": "a9159917",
   "metadata": {},
   "source": [
    "# read from postgres"
   ]
  },
  {
   "cell_type": "code",
   "execution_count": null,
   "id": "e20b7fb8",
   "metadata": {},
   "outputs": [],
   "source": [
    "#Check for the existing tables\n",
    "engine.table_names()"
   ]
  },
  {
   "cell_type": "code",
   "execution_count": null,
   "id": "6d691796",
   "metadata": {},
   "outputs": [],
   "source": [
    "#importing the dataframe from postgresql\n",
    "value = pd.read_sql_table(\"Income\",engine)\n",
    "value.head()"
   ]
  },
  {
   "cell_type": "code",
   "execution_count": null,
   "id": "7be2d042",
   "metadata": {},
   "outputs": [],
   "source": []
  },
  {
   "cell_type": "code",
   "execution_count": null,
   "id": "8a8255bc",
   "metadata": {},
   "outputs": [],
   "source": [
    "# convert the DF into a json  and save it\n",
    "Gun_Check.to_json(\"Resources/GunCheck.json\")"
   ]
  },
  {
   "cell_type": "code",
   "execution_count": null,
   "id": "13f3b296",
   "metadata": {},
   "outputs": [],
   "source": [
    "death_df.to_json(\"Resources/death.json\")"
   ]
  },
  {
   "cell_type": "code",
   "execution_count": null,
   "id": "5ef2f61f",
   "metadata": {},
   "outputs": [],
   "source": [
    "education_df.to_json(\"Resources/education2022.json\")"
   ]
  },
  {
   "cell_type": "code",
   "execution_count": null,
   "id": "864525d3",
   "metadata": {},
   "outputs": [],
   "source": [
    "rename4_df.to_json(\"Resources/RaceViolence2020.json\")"
   ]
  },
  {
   "cell_type": "code",
   "execution_count": null,
   "id": "0867e134",
   "metadata": {},
   "outputs": [],
   "source": [
    "final_combined_df.to_json(\"Resources/Income2015_2021.json\")"
   ]
  },
  {
   "cell_type": "code",
   "execution_count": null,
   "id": "68bd1424",
   "metadata": {},
   "outputs": [],
   "source": []
  }
 ],
 "metadata": {
  "kernelspec": {
   "display_name": "PythonData",
   "language": "python",
   "name": "pythondata"
  },
  "language_info": {
   "codemirror_mode": {
    "name": "ipython",
    "version": 3
   },
   "file_extension": ".py",
   "mimetype": "text/x-python",
   "name": "python",
   "nbconvert_exporter": "python",
   "pygments_lexer": "ipython3",
   "version": "3.7.7"
  }
 },
 "nbformat": 4,
 "nbformat_minor": 5
}
